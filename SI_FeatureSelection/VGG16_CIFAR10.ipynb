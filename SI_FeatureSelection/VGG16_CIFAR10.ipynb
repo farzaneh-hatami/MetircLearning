{
 "cells": [
  {
   "cell_type": "code",
   "execution_count": 1,
   "id": "b8789bbe-7d3d-481d-a0c5-aa6dc05f9480",
   "metadata": {},
   "outputs": [],
   "source": [
    "import torch\n",
    "import torch.nn as nn\n",
    "import torch.optim as optim\n",
    "import torch.nn.functional as F\n",
    "from torch.utils.data import DataLoader\n",
    "import torchvision.datasets as datasets\n",
    "import torchvision.transforms as transforms\n",
    "import torchvision\n",
    "from torch.utils.data import DataLoader,Dataset\n",
    "import torchvision.transforms as transforms\n",
    "import matplotlib.pyplot as plt\n",
    "import numpy as np\n",
    "import torch.optim as optim\n",
    "from sklearn.model_selection import train_test_split\n",
    "from torch.utils.data import random_split\n",
    "import pandas as pd\n",
    "from torch.optim import lr_scheduler"
   ]
  },
  {
   "cell_type": "code",
   "execution_count": 2,
   "id": "5c76fd3b-9258-4ac8-bcc8-2bdd7b6519e2",
   "metadata": {},
   "outputs": [],
   "source": [
    "learning_rate = 1e-4\n",
    "batch_size = 128\n",
    "device = torch.device(\"cuda\" if torch.cuda.is_available() else \"cpu\")"
   ]
  },
  {
   "cell_type": "code",
   "execution_count": 3,
   "id": "b6c29bed-ba84-47a7-81ef-720ae50a2b7d",
   "metadata": {},
   "outputs": [],
   "source": [
    "t = transforms.Compose([\n",
    "                       transforms.ToTensor(),\n",
    "                       transforms.Normalize(mean=(0), std=(1))]\n",
    "                       )"
   ]
  },
  {
   "cell_type": "code",
   "execution_count": 4,
   "id": "bdbcb8e7-0a26-4505-9899-dfc05aade3b6",
   "metadata": {},
   "outputs": [
    {
     "name": "stdout",
     "output_type": "stream",
     "text": [
      "Files already downloaded and verified\n",
      "Files already downloaded and verified\n"
     ]
    }
   ],
   "source": [
    "cifar_train = torchvision.datasets.CIFAR10(root = './CIFAR10/' , train = True , download = True , transform = t)\n",
    "cifar_split = torchvision.datasets.CIFAR10(root = './CIFAR10/' , train = False , download = True , transform = t)"
   ]
  },
  {
   "cell_type": "code",
   "execution_count": 5,
   "id": "7218fc70-4e2d-4dcc-9f30-e36573632a4a",
   "metadata": {},
   "outputs": [],
   "source": [
    "torch.manual_seed(42)\n",
    "cifar_val,cifar_test = random_split(cifar_split,(6700,3300))"
   ]
  },
  {
   "cell_type": "code",
   "execution_count": 6,
   "id": "6c262474-0d2d-4260-abcb-a39547a29ec2",
   "metadata": {},
   "outputs": [],
   "source": [
    "train_loader = DataLoader(cifar_train,\n",
    "                          batch_size = batch_size,\n",
    "                          shuffle = True,\n",
    "                          num_workers = 4)\n",
    "val_loader = DataLoader(cifar_val,\n",
    "                        batch_size = batch_size,\n",
    "                        shuffle = False,\n",
    "                        num_workers = 4)\n",
    "test_loader = DataLoader(cifar_test,\n",
    "                        batch_size = batch_size,\n",
    "                        shuffle = False,\n",
    "                        num_workers = 4)"
   ]
  },
  {
   "cell_type": "markdown",
   "id": "05cf1598-6028-4317-a783-57083caf8e56",
   "metadata": {},
   "source": [
    "## **Network**"
   ]
  },
  {
   "cell_type": "code",
   "execution_count": 7,
   "id": "07a2e153-cc4a-43d4-873f-2762b17feefe",
   "metadata": {},
   "outputs": [],
   "source": [
    "class VGG16_encoder(nn.Module):\n",
    "    def __init__(self):\n",
    "        super(VGG16_encoder, self).__init__()\n",
    "        self.conv1_1 = nn.Conv2d(in_channels=3, out_channels=64, kernel_size=3, padding=1)\n",
    "        self.conv1_2 = nn.Conv2d(in_channels=64, out_channels=64, kernel_size=3, padding=1)\n",
    "\n",
    "        self.conv2_1 = nn.Conv2d(in_channels=64, out_channels=128, kernel_size=3, padding=1)\n",
    "        self.conv2_2 = nn.Conv2d(in_channels=128, out_channels=128, kernel_size=3, padding=1)\n",
    "\n",
    "        self.conv3_1 = nn.Conv2d(in_channels=128, out_channels=256, kernel_size=3, padding=1)\n",
    "        self.conv3_2 = nn.Conv2d(in_channels=256, out_channels=256, kernel_size=3, padding=1)\n",
    "        self.conv3_3 = nn.Conv2d(in_channels=256, out_channels=256, kernel_size=3, padding=1)\n",
    "\n",
    "        self.conv4_1 = nn.Conv2d(in_channels=256, out_channels=512, kernel_size=3, padding=1)\n",
    "        self.conv4_2 = nn.Conv2d(in_channels=512, out_channels=512, kernel_size=3, padding=1)\n",
    "        self.conv4_3 = nn.Conv2d(in_channels=512, out_channels=512, kernel_size=3, padding=1)\n",
    "\n",
    "        self.conv5_1 = nn.Conv2d(in_channels=512, out_channels=512, kernel_size=3, padding=1)\n",
    "        self.conv5_2 = nn.Conv2d(in_channels=512, out_channels=512, kernel_size=3, padding=1)\n",
    "        self.conv5_3 = nn.Conv2d(in_channels=512, out_channels=512, kernel_size=3, padding=1)\n",
    "\n",
    "        self.maxpool = nn.MaxPool2d(kernel_size=2, stride=2, return_indices=True)\n",
    "        \n",
    "        self.flatten = nn.Flatten(start_dim=1)\n",
    "        \n",
    "        self.fc1 = nn.Linear(512, 256)\n",
    "        self.fc2 = nn.Linear(256, 128)\n",
    "        self.fc3 = nn.Linear(128, 10)\n",
    "\n",
    "    def forward(self, x):\n",
    "        indices = []\n",
    "        x = F.relu(self.conv1_1(x))\n",
    "        x = F.relu(self.conv1_2(x))\n",
    "        x, i = self.maxpool(x)\n",
    "        indices.append(i)\n",
    "        x = F.relu(self.conv2_1(x))\n",
    "        x = F.relu(self.conv2_2(x))\n",
    "        x, i = self.maxpool(x)\n",
    "        indices.append(i)\n",
    "        x = F.relu(self.conv3_1(x))\n",
    "        x = F.relu(self.conv3_2(x))\n",
    "        x = F.relu(self.conv3_3(x))\n",
    "        x, i = self.maxpool(x)\n",
    "        indices.append(i)\n",
    "        x = F.relu(self.conv4_1(x))\n",
    "        x = F.relu(self.conv4_2(x))\n",
    "        x = F.relu(self.conv4_3(x))\n",
    "        x,i = self.maxpool(x)\n",
    "        indices.append(i)\n",
    "        x = F.relu(self.conv5_1(x))\n",
    "        x = F.relu(self.conv5_2(x))\n",
    "        x = F.relu(self.conv5_3(x))\n",
    "        x, i = self.maxpool(x)\n",
    "        indices.append(i)\n",
    "        #x = x.reshape(x.shape[0], -1)\n",
    "        x = self.flatten(x)\n",
    "        #x = F.relu(self.fc1(x))\n",
    "        #x = F.dropout(x, 0.5) #dropout was included to combat overfitting\n",
    "        #x = F.relu(self.fc2(x))\n",
    "        #x = F.dropout(x, 0.5)\n",
    "        #x = self.fc3(x)\n",
    "        return x ,indices"
   ]
  },
  {
   "cell_type": "code",
   "execution_count": 8,
   "id": "3b3ca85b-60a1-44d5-96c1-d3eff912315b",
   "metadata": {},
   "outputs": [],
   "source": [
    "class VGG16_decoder(nn.Module):\n",
    "    def __init__(self):\n",
    "        super(VGG16_decoder, self).__init__()\n",
    "        self.conv1_1 = nn.ConvTranspose2d(in_channels=64, out_channels=3, kernel_size=3, padding=1)\n",
    "        self.conv1_2 = nn.ConvTranspose2d(in_channels=64, out_channels=64, kernel_size=3, padding=1)\n",
    "\n",
    "        self.conv2_1 = nn.ConvTranspose2d(in_channels=128, out_channels=64, kernel_size=3, padding=1)\n",
    "        self.conv2_2 = nn.ConvTranspose2d(in_channels=128, out_channels=128, kernel_size=3, padding=1)\n",
    "\n",
    "        self.conv3_1 = nn.ConvTranspose2d(in_channels=256, out_channels=128, kernel_size=3, padding=1)\n",
    "        self.conv3_2 = nn.ConvTranspose2d(in_channels=256, out_channels=256, kernel_size=3, padding=1)\n",
    "        self.conv3_3 = nn.ConvTranspose2d(in_channels=256, out_channels=256, kernel_size=3, padding=1)\n",
    "\n",
    "        self.conv4_1 = nn.ConvTranspose2d(in_channels=512, out_channels=256, kernel_size=3, padding=1)\n",
    "        self.conv4_2 = nn.ConvTranspose2d(in_channels=512, out_channels=512, kernel_size=3, padding=1)\n",
    "        self.conv4_3 = nn.ConvTranspose2d(in_channels=512, out_channels=512, kernel_size=3, padding=1)\n",
    "\n",
    "        self.conv5_1 = nn.ConvTranspose2d(in_channels=512, out_channels=512, kernel_size=3, padding=1)\n",
    "        self.conv5_2 = nn.ConvTranspose2d(in_channels=512, out_channels=512, kernel_size=3, padding=1)\n",
    "        self.conv5_3 = nn.ConvTranspose2d(in_channels=512, out_channels=512, kernel_size=3, padding=1)\n",
    "\n",
    "        self.unmaxpool = nn.MaxUnpool2d(kernel_size=2, stride=2)\n",
    "        \n",
    "        self.unflatten = nn.Unflatten(dim=1, unflattened_size=(512, 1, 1))\n",
    "        \n",
    "        self.fc1 = nn.Linear(512, 256)\n",
    "        self.fc2 = nn.Linear(256, 128)\n",
    "        self.fc3 = nn.Linear(128, 10)\n",
    "\n",
    "    def forward(self, x, indices):\n",
    "    \n",
    "        x = self.unflatten(x)\n",
    "        x = self.unmaxpool(x, indices[-1])\n",
    "        x = F.relu(self.conv5_3(x))\n",
    "        x = F.relu(self.conv5_2(x))\n",
    "        x = F.relu(self.conv5_1(x))\n",
    "        \n",
    "        x = self.unmaxpool(x, indices[-2])\n",
    "        x = F.relu(self.conv4_3(x))\n",
    "        x = F.relu(self.conv4_2(x))\n",
    "        x = F.relu(self.conv4_1(x))\n",
    "        \n",
    "        x = self.unmaxpool(x, indices[-3])\n",
    "        x = F.relu(self.conv3_3(x))\n",
    "        x = F.relu(self.conv3_2(x))\n",
    "        x = F.relu(self.conv3_1(x))\n",
    "        \n",
    "        x = self.unmaxpool(x, indices[-4])\n",
    "        x = F.relu(self.conv2_2(x))\n",
    "        x = F.relu(self.conv2_1(x))\n",
    "        \n",
    "        x = self.unmaxpool(x, indices[-5])\n",
    "        x = F.relu(self.conv1_2(x))\n",
    "        x = F.relu(self.conv1_1(x))\n",
    "\n",
    "        return x"
   ]
  },
  {
   "cell_type": "code",
   "execution_count": 9,
   "id": "1b8eeb04-7cac-43b0-832c-5193741ad65c",
   "metadata": {},
   "outputs": [
    {
     "name": "stdout",
     "output_type": "stream",
     "text": [
      "torch.Size([512, 3, 32, 32])\n",
      "torch.Size([512, 512])\n"
     ]
    },
    {
     "data": {
      "text/plain": [
       "torch.Size([512, 3, 32, 32])"
      ]
     },
     "execution_count": 9,
     "metadata": {},
     "output_type": "execute_result"
    }
   ],
   "source": [
    "#test\n",
    "a = torch.rand(512, 3, 32, 32)\n",
    "print(a.shape)\n",
    "\n",
    "model= VGG16_encoder()\n",
    "b , indices = model(a)\n",
    "print(b.shape)\n",
    "\n",
    "decoder = VGG16_decoder()\n",
    "decoder(b, indices).shape"
   ]
  },
  {
   "cell_type": "code",
   "execution_count": 10,
   "id": "5a695e15-4155-4068-9dc7-fddbebbe63ea",
   "metadata": {},
   "outputs": [],
   "source": [
    "class AE(nn.Module):\n",
    "    def __init__(self):\n",
    "        super().__init__()\n",
    "        self.encoder = VGG16_encoder()\n",
    "        self.decoder = VGG16_decoder()\n",
    "\n",
    "    def forward(self, image):\n",
    "        feature, indices = self.encoder(image)\n",
    "        out = self.decoder(feature, indices)\n",
    "        return out"
   ]
  },
  {
   "cell_type": "code",
   "execution_count": 11,
   "id": "aa225244-fd53-4eee-98b0-d7f2442f4a0b",
   "metadata": {},
   "outputs": [],
   "source": [
    "net= AE().cuda()\n",
    "criterion = nn.MSELoss()\n",
    "optimizer = optim.Adam(net.parameters(), lr = 0.0001)"
   ]
  },
  {
   "cell_type": "code",
   "execution_count": 19,
   "id": "aaef5fee-5779-403f-99a7-a8419369ed4a",
   "metadata": {},
   "outputs": [
    {
     "name": "stdout",
     "output_type": "stream",
     "text": [
      "tensor(-2.5313)\n",
      "log prob pz:  tensor(-4.1226) prob: tensor(0.0162)\n",
      "log prob qzx: tensor(-2.9469) prob: tensor(0.0525)\n",
      "kl: tensor(1.1757)\n"
     ]
    },
    {
     "data": {
      "text/plain": [
       "tensor(1.1757)"
      ]
     },
     "execution_count": 19,
     "metadata": {},
     "output_type": "execute_result"
    }
   ],
   "source": [
    "p = torch.distributions.Normal(0,1)\n",
    "q = torch.distributions.Normal(2,4)\n",
    "\n",
    "z = q.rsample()\n",
    "print(z)\n",
    "\n",
    "log_pz  = p.log_prob(z)\n",
    "log_qzx = q.log_prob(z)\n",
    "\n",
    "print('log prob pz: ', log_pz, 'prob:', torch.exp(log_pz))\n",
    "print('log prob qzx:', log_qzx, 'prob:', torch.exp(log_qzx))\n",
    "\n",
    "kl = log_qzx - log_pz\n",
    "print('kl:', kl)\n",
    "kl = kl.sum(-1)\n",
    "kl"
   ]
  },
  {
   "cell_type": "code",
   "execution_count": 34,
   "id": "dfe254bd-2225-4265-b938-687c3c37b64f",
   "metadata": {},
   "outputs": [
    {
     "name": "stdout",
     "output_type": "stream",
     "text": [
      "Epoch:0 -> train loss:0.04817822395735766 ,validation loss:0.010198384997839073\n",
      "Epoch:1 -> train loss:0.007543952895037811 ,validation loss:0.006110608489867652\n",
      "Epoch:2 -> train loss:0.005560724012305974 ,validation loss:0.005886012907930702\n",
      "Epoch:3 -> train loss:0.004834601966440297 ,validation loss:0.004484745695800433\n",
      "Epoch:4 -> train loss:0.004343819160781363 ,validation loss:0.004303693591248033\n",
      "Epoch:5 -> train loss:0.0039758804597227314 ,validation loss:0.003757638136311522\n",
      "Epoch:6 -> train loss:0.003689854854212888 ,validation loss:0.0035152152786909973\n",
      "Epoch:7 -> train loss:0.00345033560962895 ,validation loss:0.0033294374588876963\n",
      "Epoch:8 -> train loss:0.003348725681166972 ,validation loss:0.0031938532736363275\n",
      "Epoch:9 -> train loss:0.0031184875835066714 ,validation loss:0.003048822613222138\n",
      "Epoch:10 -> train loss:0.003024259265964789 ,validation loss:0.0029277331020050455\n",
      "Epoch:11 -> train loss:0.0029259799411544183 ,validation loss:0.0028338969228262046\n",
      "Epoch:12 -> train loss:0.002823859306714495 ,validation loss:0.00283175241202116\n",
      "Epoch:13 -> train loss:0.00273031840110412 ,validation loss:0.0028614251619591465\n",
      "Epoch:14 -> train loss:0.0026649203004977663 ,validation loss:0.0026094181120465947\n",
      "Epoch:15 -> train loss:0.002592849143830788 ,validation loss:0.002595204745753194\n",
      "Epoch:16 -> train loss:0.0025096504706079545 ,validation loss:0.0024781002496140746\n",
      "Epoch:17 -> train loss:0.0024614608435727216 ,validation loss:0.0025244345449192346\n",
      "Epoch:18 -> train loss:0.0024204687888274338 ,validation loss:0.002492321000592607\n",
      "Epoch:19 -> train loss:0.0023525678219221283 ,validation loss:0.0023484214138731643\n",
      "Epoch:20 -> train loss:0.0023075182781652414 ,validation loss:0.0023125000517674773\n",
      "Epoch:21 -> train loss:0.0022806829315564973 ,validation loss:0.0022309781798987454\n",
      "Epoch:22 -> train loss:0.0022494204627002217 ,validation loss:0.0022191582862639203\n",
      "Epoch:23 -> train loss:0.002191382740764781 ,validation loss:0.002194713282767894\n",
      "Epoch:24 -> train loss:0.0021427962253146504 ,validation loss:0.002234722434912088\n",
      "Epoch:25 -> train loss:0.0021284862598309013 ,validation loss:0.0021126810966481295\n",
      "Epoch:26 -> train loss:0.002092611690139984 ,validation loss:0.0027973480733498087\n",
      "Epoch:27 -> train loss:0.00206801037856704 ,validation loss:0.002089846758435498\n",
      "Epoch:28 -> train loss:0.0020329378136788563 ,validation loss:0.0020337550624115568\n",
      "Epoch:29 -> train loss:0.0020147893581386953 ,validation loss:0.0020357828459895725\n",
      "Epoch:30 -> train loss:0.0019693412711424634 ,validation loss:0.0020008461664096926\n",
      "Epoch:31 -> train loss:0.0019514699442112042 ,validation loss:0.0020116247271872918\n",
      "Epoch:32 -> train loss:0.0019477278645009832 ,validation loss:0.0019384692203394086\n",
      "Epoch:33 -> train loss:0.0019067471011487 ,validation loss:0.0019328990964359552\n",
      "Epoch:34 -> train loss:0.001884394801100311 ,validation loss:0.0019251183158595045\n",
      "Epoch:35 -> train loss:0.0018674401370475015 ,validation loss:0.001872480113305292\n",
      "Epoch:36 -> train loss:0.0018512475759248294 ,validation loss:0.0019342824992425037\n",
      "Epoch:37 -> train loss:0.0018184209508044869 ,validation loss:0.001845202492198573\n",
      "Epoch:38 -> train loss:0.0018126357702867074 ,validation loss:0.0018366440704514115\n",
      "Epoch:39 -> train loss:0.0017870372584651766 ,validation loss:0.0018201892084073064\n"
     ]
    }
   ],
   "source": [
    "epoch_loss_train = []\n",
    "epoch_loss_val = []\n",
    "\n",
    "count = 0\n",
    "\n",
    "len_train = len(train_loader)\n",
    "len_val = len(val_loader)\n",
    "\n",
    "#since = time.time()\n",
    "\n",
    "for epoch in range(40):\n",
    "    #train\n",
    "    total_loss = 0\n",
    "    for i, (img, label) in enumerate(train_loader, 0):\n",
    "        img, label = img.cuda().float(), label.cuda().float()\n",
    "\n",
    "        optimizer.zero_grad()\n",
    "        \n",
    "        embedding = net(img)\n",
    "        \n",
    "        \n",
    "        loss = criterion(embedding, img)\n",
    "    \n",
    "        loss.backward()\n",
    "        \n",
    "        optimizer.step()\n",
    "        \n",
    "        \n",
    "        total_loss += loss.item()\n",
    "    \n",
    "    epoch_loss_train.append(total_loss/len_train)\n",
    "    \n",
    "    #validation\n",
    "    total_loss_val = 0\n",
    "    for j, (img, label) in enumerate(val_loader, 0):\n",
    "        img, label = img.cuda().float(), label.cuda().float()\n",
    "\n",
    "        optimizer.zero_grad()\n",
    "        \n",
    "        embedding = net(img)\n",
    "        #print(embedding.shape)\n",
    "        \n",
    "        loss = criterion(embedding, img)\n",
    "\n",
    "        total_loss_val += loss.item()\n",
    "    \n",
    "    print(f\"Epoch:{epoch} -> train loss:{total_loss/len_train} ,validation loss:{total_loss_val/len_val}\")\n",
    "    epoch_loss_val.append(total_loss_val/len_val)\n",
    "#time_elapsed = time.time() - since"
   ]
  },
  {
   "cell_type": "code",
   "execution_count": 44,
   "id": "332c204e-13e1-4be5-a425-3573222432cc",
   "metadata": {},
   "outputs": [],
   "source": [
    "PATH = 'model/model.pth'\n",
    "torch.save(model.state_dict(), PATH)"
   ]
  },
  {
   "cell_type": "code",
   "execution_count": 49,
   "id": "a962669d-2782-4de7-9394-3ff668cbe310",
   "metadata": {},
   "outputs": [],
   "source": [
    "PATH = 'model/net1.pth'\n",
    "torch.save(net.state_dict(), PATH)"
   ]
  },
  {
   "cell_type": "code",
   "execution_count": 51,
   "id": "0a40f943-e58d-4a94-b708-5f631a67f65a",
   "metadata": {},
   "outputs": [],
   "source": [
    "torch.save(net.state_dict(),'net/net.pth')"
   ]
  },
  {
   "cell_type": "code",
   "execution_count": 35,
   "id": "b4a30532-a8c0-4a79-8307-72f94320c1c7",
   "metadata": {},
   "outputs": [
    {
     "data": {
      "image/png": "[encoded data removed]",
      "text/plain": [
       "<Figure size 432x288 with 1 Axes>"
      ]
     },
     "metadata": {
      "needs_background": "light"
     },
     "output_type": "display_data"
    }
   ],
   "source": [
    "plt.plot(epoch_loss_train)\n",
    "plt.plot(epoch_loss_val)\n",
    "plt.title('triplet loss with duplicate samples')\n",
    "plt.xlabel('triplet loss')\n",
    "plt.ylabel('epoch')\n",
    "plt.legend(['train', 'validation']);"
   ]
  },
  {
   "cell_type": "code",
   "execution_count": 36,
   "id": "db679974-fddb-44df-8b3b-73740e44bda6",
   "metadata": {},
   "outputs": [
    {
     "data": {
      "text/plain": [
       "<matplotlib.image.AxesImage at 0x7f46b0417e80>"
      ]
     },
     "execution_count": 36,
     "metadata": {},
     "output_type": "execute_result"
    },
    {
     "data": {
      "image/png": "[encoded data removed]",
      "text/plain": [
       "<Figure size 432x288 with 1 Axes>"
      ]
     },
     "metadata": {
      "needs_background": "light"
     },
     "output_type": "display_data"
    }
   ],
   "source": [
    "k = 12\n",
    "plt.imshow(cifar_test[k][0].permute(1,2,0))"
   ]
  },
  {
   "cell_type": "code",
   "execution_count": 38,
   "id": "7f080932-5b12-4095-a0ed-129a774a241f",
   "metadata": {},
   "outputs": [
    {
     "name": "stderr",
     "output_type": "stream",
     "text": [
      "Clipping input data to the valid range for imshow with RGB data ([0..1] for floats or [0..255] for integers).\n"
     ]
    },
    {
     "data": {
      "image/png": "[encoded data removed]",
      "text/plain": [
       "<Figure size 432x288 with 1 Axes>"
      ]
     },
     "metadata": {
      "needs_background": "light"
     },
     "output_type": "display_data"
    }
   ],
   "source": [
    "test = net(cifar_test[k][0].unsqueeze(0).cuda())\n",
    "plt.imshow(test[0].permute(1,2,0).cpu().detach());"
   ]
  },
  {
   "cell_type": "code",
   "execution_count": null,
   "id": "b0557f63-aa18-49f9-bc79-a06e289bfc86",
   "metadata": {},
   "outputs": [],
   "source": []
  }
 ],
 "metadata": {
  "kernelspec": {
   "display_name": "Python 3",
   "language": "python",
   "name": "python3"
  },
  "language_info": {
   "codemirror_mode": {
    "name": "ipython",
    "version": 3
   },
   "file_extension": ".py",
   "mimetype": "text/x-python",
   "name": "python",
   "nbconvert_exporter": "python",
   "pygments_lexer": "ipython3",
   "version": "3.8.10"
  }
 },
 "nbformat": 4,
 "nbformat_minor": 5
}
