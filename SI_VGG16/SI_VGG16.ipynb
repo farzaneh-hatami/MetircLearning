{
  "cells": [
    {
      "cell_type": "code",
      "source": [
        "!pip install torchmetrics"
      ],
      "metadata": {
        "colab": {
          "base_uri": "https://localhost:8080/"
        },
        "id": "8eAuIbm3z1pR",
        "outputId": "c6f2dbcd-f50a-4cc0-c6e9-40fae94dd3a7"
      },
      "execution_count": 1,
      "outputs": [
        {
          "output_type": "stream",
          "name": "stdout",
          "text": [
            "Looking in indexes: https://pypi.org/simple, https://us-python.pkg.dev/colab-wheels/public/simple/\n",
            "Collecting torchmetrics\n",
            "  Downloading torchmetrics-0.9.1-py3-none-any.whl (419 kB)\n",
            "\u001b[K     |████████████████████████████████| 419 kB 4.9 MB/s \n",
            "\u001b[?25hRequirement already satisfied: typing-extensions in /usr/local/lib/python3.7/dist-packages (from torchmetrics) (4.1.1)\n",
            "Requirement already satisfied: packaging in /usr/local/lib/python3.7/dist-packages (from torchmetrics) (21.3)\n",
            "Requirement already satisfied: torch>=1.3.1 in /usr/local/lib/python3.7/dist-packages (from torchmetrics) (1.11.0+cu113)\n",
            "Requirement already satisfied: numpy>=1.17.2 in /usr/local/lib/python3.7/dist-packages (from torchmetrics) (1.21.6)\n",
            "Requirement already satisfied: pyparsing!=3.0.5,>=2.0.2 in /usr/local/lib/python3.7/dist-packages (from packaging->torchmetrics) (3.0.9)\n",
            "Installing collected packages: torchmetrics\n",
            "Successfully installed torchmetrics-0.9.1\n"
          ]
        }
      ]
    },
    {
      "cell_type": "code",
      "execution_count": 2,
      "metadata": {
        "id": "kdRNkUqdu7vL"
      },
      "outputs": [],
      "source": [
        "import torch\n",
        "import torch.nn as nn\n",
        "import torch.nn.functional as F\n",
        "import torchvision\n",
        "import torchvision.transforms as transforms\n",
        "import torchmetrics\n",
        "from torchvision import models\n",
        "from tqdm import tqdm\n",
        "from torch.utils.data import DataLoader, Dataset, SubsetRandomSampler\n",
        "import matplotlib.pyplot as plt\n",
        "\n",
        "import numpy as np\n",
        "import seaborn as snsn"
      ]
    },
    {
      "cell_type": "code",
      "execution_count": 4,
      "metadata": {
        "colab": {
          "base_uri": "https://localhost:8080/"
        },
        "id": "GhweOLn31MJe",
        "outputId": "290f05c9-d05c-49ba-9c0f-55addfc5d111"
      },
      "outputs": [
        {
          "output_type": "stream",
          "name": "stdout",
          "text": [
            "cuda\n"
          ]
        }
      ],
      "source": [
        "Device = torch.device(\"cuda\" if torch.cuda.is_available() else \"cpu\")\n",
        "print(Device)"
      ]
    },
    {
      "cell_type": "code",
      "execution_count": 5,
      "metadata": {
        "id": "rRsAhzTM1ML_"
      },
      "outputs": [],
      "source": [
        "num_epoch = 40\n",
        "batch_size = 128\n",
        "lR = 0.001\n",
        "calsses = ('plane', 'car', 'bird', 'cat','deer', 'dog', 'frog', 'horse', 'ship', 'truck')"
      ]
    },
    {
      "cell_type": "code",
      "source": [
        "train_dataset = torchvision.datasets.CIFAR10(root = './data', train = True, download = True, transform = torch.tensor)"
      ],
      "metadata": {
        "colab": {
          "base_uri": "https://localhost:8080/",
          "height": 84,
          "referenced_widgets": [
            "f3b3d633c1ec4856b3c02bc6cfd37d17",
            "5565e2d3b9254721a3aedef40831af60",
            "9c6ab824c2df40d7a8c400b122816a75",
            "54309bbf182041d8a22e006ab4fb616f",
            "abab21f509f04fd3a18fe877b9a1bb15",
            "132f98a213ed4398925746d3f6d42238",
            "52614e6347214f81bb1f0d3abdd5f6f4",
            "1b78a49b9b6d4a6a8085aa96f8c35351",
            "a91e8c0d757d451dad3949b73cbb33f1",
            "5913f36c8f244f75b6e4c1f210280f13",
            "73df90e9b9324b6883a65283241511e0"
          ]
        },
        "id": "k2D6HqOJz98P",
        "outputId": "03bcdcfa-aaff-44df-b396-ed52fc4c4fd3"
      },
      "execution_count": 6,
      "outputs": [
        {
          "output_type": "stream",
          "name": "stdout",
          "text": [
            "Downloading https://www.cs.toronto.edu/~kriz/cifar-10-python.tar.gz to ./data/cifar-10-python.tar.gz\n"
          ]
        },
        {
          "output_type": "display_data",
          "data": {
            "text/plain": [
              "  0%|          | 0/170498071 [00:00<?, ?it/s]"
            ],
            "application/vnd.jupyter.widget-view+json": {
              "version_major": 2,
              "version_minor": 0,
              "model_id": "f3b3d633c1ec4856b3c02bc6cfd37d17"
            }
          },
          "metadata": {}
        },
        {
          "output_type": "stream",
          "name": "stdout",
          "text": [
            "Extracting ./data/cifar-10-python.tar.gz to ./data\n"
          ]
        }
      ]
    },
    {
      "cell_type": "code",
      "source": [
        "mean = ((train_dataset.data).mean((0,1,2)))/255\n",
        "std = ((train_dataset.data).std((0,1,2)))/255\n",
        "\n",
        "transform = transforms.Compose([\n",
        "                             \n",
        "        transforms.Resize(size = (32, 32)),\n",
        "        transforms.ToTensor(),\n",
        "        transforms.Normalize(mean,std)\n",
        "])"
      ],
      "metadata": {
        "id": "Yy8l6LT40AQA"
      },
      "execution_count": 7,
      "outputs": []
    },
    {
      "cell_type": "code",
      "source": [
        "dataset = torchvision.datasets.CIFAR10(\n",
        "    root = './data', train = True, download = True, transform = transform\n",
        ")\n",
        "\n",
        "test_dataset =  torchvision.datasets.CIFAR10(\n",
        "    root = './data', train = False, download = True, transform = transform\n",
        ")"
      ],
      "metadata": {
        "colab": {
          "base_uri": "https://localhost:8080/"
        },
        "id": "CoUKjSMg0CNg",
        "outputId": "4af4db06-9b83-49c8-e93e-181b53f6ae11"
      },
      "execution_count": 8,
      "outputs": [
        {
          "output_type": "stream",
          "name": "stdout",
          "text": [
            "Files already downloaded and verified\n",
            "Files already downloaded and verified\n"
          ]
        }
      ]
    },
    {
      "cell_type": "code",
      "source": [
        "class dataset_per_class(Dataset):\n",
        "    def __init__(self,dataset, c):\n",
        "        self.dataset = dataset\n",
        "        self.i = np.where(np.array(self.dataset.targets) == c)[0]\n",
        "    def __len__(self):\n",
        "        return len(self.i)\n",
        "    def __getitem__(self,idx):\n",
        "        return self.dataset[self.i[idx]]"
      ],
      "metadata": {
        "id": "-6RaZLJW80OY"
      },
      "execution_count": 9,
      "outputs": []
    },
    {
      "cell_type": "code",
      "source": [
        "train_dataset, val_dataset = torch.utils.data.random_split(dataset,[45000,5000])"
      ],
      "metadata": {
        "id": "u5cSNnVO0FQv"
      },
      "execution_count": 10,
      "outputs": []
    },
    {
      "cell_type": "code",
      "source": [
        "train_loader = torch.utils.data.DataLoader(train_dataset, batch_size = batch_size)\n",
        "val_loader = torch.utils.data.DataLoader(val_dataset, batch_size = batch_size)"
      ],
      "metadata": {
        "id": "d7R_dgHR0IHh"
      },
      "execution_count": 11,
      "outputs": []
    },
    {
      "cell_type": "code",
      "source": [
        "n_total_step = len(train_loader)\n",
        "print(n_total_step)"
      ],
      "metadata": {
        "colab": {
          "base_uri": "https://localhost:8080/"
        },
        "id": "NPGRR7x_0KY4",
        "outputId": "e2f6920b-16c1-422b-daf8-aed0384dc806"
      },
      "execution_count": 12,
      "outputs": [
        {
          "output_type": "stream",
          "name": "stdout",
          "text": [
            "352\n"
          ]
        }
      ]
    },
    {
      "cell_type": "code",
      "source": [
        "samples = torch.Tensor(test_dataset.data)\n",
        "samples = samples.flatten(1)\n",
        "samples.shape"
      ],
      "metadata": {
        "colab": {
          "base_uri": "https://localhost:8080/"
        },
        "id": "EzStuPQGcrgF",
        "outputId": "9e1100bb-ed1d-482e-a0e0-744a970a4cea"
      },
      "execution_count": 13,
      "outputs": [
        {
          "output_type": "execute_result",
          "data": {
            "text/plain": [
              "torch.Size([10000, 3072])"
            ]
          },
          "metadata": {},
          "execution_count": 13
        }
      ]
    },
    {
      "cell_type": "code",
      "source": [
        "targets = torch.LongTensor(test_dataset.targets)\n",
        "targets = targets.view(targets.size(0), 1).expand(-1, samples.size(1))\n",
        "targets.shape"
      ],
      "metadata": {
        "colab": {
          "base_uri": "https://localhost:8080/"
        },
        "id": "A_HqKw-mbR5H",
        "outputId": "31f6cd3d-bc23-40d9-82b9-21f5be0f2461"
      },
      "execution_count": 14,
      "outputs": [
        {
          "output_type": "execute_result",
          "data": {
            "text/plain": [
              "torch.Size([10000, 3072])"
            ]
          },
          "metadata": {},
          "execution_count": 14
        }
      ]
    },
    {
      "cell_type": "code",
      "source": [
        "unique_labels, labels_count = targets.unique(dim=0, return_counts=True)\n",
        "print(\"Class  \", \"   Count\")\n",
        "for (i, j) in zip(unique_labels, labels_count):\n",
        "  print(i[0], j)\n"
      ],
      "metadata": {
        "colab": {
          "base_uri": "https://localhost:8080/"
        },
        "id": "zTbOAqIJdlZd",
        "outputId": "aee950dd-e5ca-4b3b-d4e9-4c4a23200354"
      },
      "execution_count": 15,
      "outputs": [
        {
          "output_type": "stream",
          "name": "stdout",
          "text": [
            "Class      Count\n",
            "tensor(0) tensor(1000)\n",
            "tensor(1) tensor(1000)\n",
            "tensor(2) tensor(1000)\n",
            "tensor(3) tensor(1000)\n",
            "tensor(4) tensor(1000)\n",
            "tensor(5) tensor(1000)\n",
            "tensor(6) tensor(1000)\n",
            "tensor(7) tensor(1000)\n",
            "tensor(8) tensor(1000)\n",
            "tensor(9) tensor(1000)\n"
          ]
        }
      ]
    },
    {
      "cell_type": "code",
      "source": [
        "res = torch.zeros_like(unique_labels, dtype=torch.float).scatter_add_(0, targets, samples)\n",
        "res = res / labels_count.float().unsqueeze(1)"
      ],
      "metadata": {
        "id": "7ukCvhgXUtWZ"
      },
      "execution_count": 16,
      "outputs": []
    },
    {
      "cell_type": "code",
      "source": [
        "class VGG(nn.Module):\n",
        "    def __init__(self ):\n",
        "                super().__init__()\n",
        "                self.conv1 = nn.Conv2d(3,64, (3, 3), padding=(1, 1))\n",
        "                self.bn1 = nn.BatchNorm2d(64)\n",
        "                self.d1 = nn.Dropout(0.3)\n",
        "                self.conv2 = nn.Conv2d(64,64, (3, 3), padding=(1, 1))\n",
        "                self.bn2 = nn.BatchNorm2d(64)\n",
        "                self.mp1 = nn.MaxPool2d((2, 2))\n",
        "                self.conv3 = nn.Conv2d(64,128, (3, 3), padding=(1, 1))\n",
        "                self.bn3 = nn.BatchNorm2d(128)\n",
        "                self.d2 = nn.Dropout2d(0.4)\n",
        "                self.conv4 = nn.Conv2d(128,128, (3, 3), padding=(1, 1))\n",
        "                self.bn4 = nn.BatchNorm2d(128)\n",
        "                self.mp2 = nn.MaxPool2d((2, 2))\n",
        "                self.conv5 = nn.Conv2d(128,256, (3, 3), padding=(1, 1))\n",
        "                self.bn5 = nn.BatchNorm2d(256)\n",
        "                self.d3 = nn.Dropout2d(0.4)\n",
        "                self.conv6 = nn.Conv2d(256,256, (3, 3), padding=(1, 1))\n",
        "                self.bn6 = nn.BatchNorm2d(256)\n",
        "                self.d4 = nn.Dropout(0.4)\n",
        "                self.conv7 = nn.Conv2d(256,256, (3, 3), padding=(1, 1))\n",
        "                self.bn7 = nn.BatchNorm2d(256)\n",
        "                self.mp3 = nn.MaxPool2d((2, 2))\n",
        "                self.conv8 = nn.Conv2d(256,512, (3, 3), padding=(1, 1))\n",
        "                self.bn8 = nn.BatchNorm2d(512)\n",
        "                self.d5 = nn.Dropout2d(0.4)\n",
        "                self.conv9 = nn.Conv2d(512,512, (3, 3), padding=(1, 1))\n",
        "                self.bn9 = nn.BatchNorm2d(512)\n",
        "                self.d6 = nn.Dropout2d(0.4)\n",
        "\n",
        "                self.conv10 = nn.Conv2d(512,512, (3, 3), padding=(1, 1))\n",
        "                self.bn10 = nn.BatchNorm2d(512)\n",
        "                self.mp4 = nn.MaxPool2d((2, 2))\n",
        "\n",
        "                self.conv11 = nn.Conv2d(512,512, (3, 3), padding=(1, 1))\n",
        "                self.bn11 = nn.BatchNorm2d(512)\n",
        "                self.d7 = nn.Dropout2d(0.4)\n",
        "\n",
        "                self.conv12 = nn.Conv2d(512,512, (3, 3), padding=(1, 1))\n",
        "                self.bn12 = nn.BatchNorm2d(512)\n",
        "                self.d8 = nn.Dropout2d(0.4)\n",
        "\n",
        "                self.conv13 = nn.Conv2d(512,512, (3, 3), padding=(1, 1))\n",
        "                self.bn13 = nn.BatchNorm2d(512)\n",
        "                self.mp5 = nn.MaxPool2d((2, 2))\n",
        "                self.d9 = nn.Dropout2d(0.5)\n",
        "\n",
        "                self.flatten = nn.Flatten()\n",
        "\n",
        "                self.fc1 = nn.Linear(512,512)\n",
        "                self.bn1d = nn.BatchNorm1d(num_features=512)\n",
        "                self.d10 = nn.Dropout(0.5)\n",
        "                self.fc2 = nn.Linear(512,10)\n",
        "  \n",
        "\n",
        "    def forward(self, x):\n",
        "        x = F.relu(self.conv1(x))\n",
        "        x = self.bn1(x)\n",
        "        x = self.d1(x)\n",
        "        x = F.relu(self.conv2(x))\n",
        "        x = self.bn2(x)\n",
        "        x = self.mp1(x)\n",
        "\n",
        "        x = F.relu(self.conv3(x))\n",
        "        x = self.bn3(x)\n",
        "        x = self.d2(x)\n",
        "\n",
        "        x = F.relu(self.conv4(x))\n",
        "        x = self.bn4(x)\n",
        "        x = self.mp2(x)\n",
        "\n",
        "        x = F.relu(self.conv5(x))\n",
        "        x = self.bn5(x)\n",
        "        x = self.d3(x)\n",
        "\n",
        "        x = F.relu(self.conv6(x))\n",
        "        x = self.bn6(x)\n",
        "        x = self.d4(x)\n",
        "\n",
        "        x = F.relu(self.conv7(x))\n",
        "        x = self.bn7(x)\n",
        "        x = self.mp3(x)\n",
        "\n",
        "        x = F.relu(self.conv8(x))\n",
        "        x = self.bn8(x)\n",
        "        x = self.d5(x)\n",
        "\n",
        "        x = F.relu(self.conv9(x))\n",
        "        x = self.bn9(x)\n",
        "        x = self.d6(x)\n",
        "\n",
        "        x = F.relu(self.conv10(x))\n",
        "        x = self.bn10(x)\n",
        "        x = self.mp4(x)\n",
        "\n",
        "        x = F.relu(self.conv11(x))\n",
        "        x = self.bn11(x)\n",
        "        x = self.d7(x)\n",
        "\n",
        "        x = F.relu(self.conv12(x))\n",
        "        x = self.bn12(x)\n",
        "        x = self.d8(x)\n",
        "\n",
        "        x = F.relu(self.conv13(x))\n",
        "        x = self.bn13(x)\n",
        "        x = self.mp5(x)\n",
        "        x = self.d9(x)\n",
        "\n",
        "        x = self.flatten(x)\n",
        "\n",
        "        x = F.relu(self.fc1(x))\n",
        "        x = self.bn1d(x)\n",
        "        x = self.d10(x)\n",
        "        x = self.fc2(x)\n",
        "\n",
        "        return x\n",
        "        "
      ],
      "metadata": {
        "id": "xr0EW9JtDPRk"
      },
      "execution_count": 19,
      "outputs": []
    },
    {
      "cell_type": "code",
      "source": [
        "model2 = VGG()\n",
        "model2.to(Device);"
      ],
      "metadata": {
        "id": "fYFy_dZPPPDv"
      },
      "execution_count": 21,
      "outputs": []
    },
    {
      "cell_type": "code",
      "source": [
        "criterion = nn.CrossEntropyLoss()\n",
        "optimizer = torch.optim.AdamW(model2.parameters(), lr=0.001, weight_decay=0.0005)\n",
        "scheduler = torch.optim.lr_scheduler.ExponentialLR(optimizer, gamma=0.9, verbose=True)\n",
        "epochs = 40\n",
        "accuracy = torchmetrics.Accuracy().to(Device)"
      ],
      "metadata": {
        "colab": {
          "base_uri": "https://localhost:8080/"
        },
        "id": "UkwonlxD0U54",
        "outputId": "8e0ab1ee-8799-44b4-ff99-27a0993dea91"
      },
      "execution_count": 22,
      "outputs": [
        {
          "output_type": "stream",
          "name": "stdout",
          "text": [
            "Adjusting learning rate of group 0 to 1.0000e-03.\n"
          ]
        }
      ]
    },
    {
      "cell_type": "code",
      "source": [
        "for name, layer in model2._modules.items():\n",
        "    print(name)"
      ],
      "metadata": {
        "id": "7LTh4NAkJ8k4",
        "colab": {
          "base_uri": "https://localhost:8080/"
        },
        "outputId": "3e507b8c-e2ac-47cc-b825-d66790e5739c"
      },
      "execution_count": 23,
      "outputs": [
        {
          "output_type": "stream",
          "name": "stdout",
          "text": [
            "conv1\n",
            "bn1\n",
            "d1\n",
            "conv2\n",
            "bn2\n",
            "mp1\n",
            "conv3\n",
            "bn3\n",
            "d2\n",
            "conv4\n",
            "bn4\n",
            "mp2\n",
            "conv5\n",
            "bn5\n",
            "d3\n",
            "conv6\n",
            "bn6\n",
            "d4\n",
            "conv7\n",
            "bn7\n",
            "mp3\n",
            "conv8\n",
            "bn8\n",
            "d5\n",
            "conv9\n",
            "bn9\n",
            "d6\n",
            "conv10\n",
            "bn10\n",
            "mp4\n",
            "conv11\n",
            "bn11\n",
            "d7\n",
            "conv12\n",
            "bn12\n",
            "d8\n",
            "conv13\n",
            "bn13\n",
            "mp5\n",
            "d9\n",
            "flatten\n",
            "fc1\n",
            "bn1d\n",
            "d10\n",
            "fc2\n"
          ]
        }
      ]
    },
    {
      "cell_type": "code",
      "source": [
        "loss_train = []\n",
        "loss_val = []\n",
        "acc_train = []\n",
        "acc_val = []\n",
        "\n",
        "\n",
        "for epoch in range(epochs):\n",
        "\n",
        "    model2.train()\n",
        "\n",
        "    total_loss = 0\n",
        "    total_acc = 0\n",
        "\n",
        "    for inputs, labels in tqdm(train_loader,leave=False):\n",
        "\n",
        "        inputs, labels = inputs.to(Device), labels.to(Device)\n",
        "        outputs = model2(inputs)\n",
        "        \n",
        "        loss = criterion(outputs, labels)\n",
        "        optimizer.zero_grad()\n",
        "        loss.backward()\n",
        "        optimizer.step()\n",
        "        total_loss += loss.item()\n",
        "\n",
        "        with torch.no_grad():\n",
        "            total_acc += accuracy(torch.argmax(outputs,1), labels).item()\n",
        "\n",
        "    loss_train.append(total_loss/len(train_loader))\n",
        "    acc_train.append(total_acc/len(train_loader))\n",
        "\n",
        "    model2.eval()\n",
        "\n",
        "    total_loss = 0\n",
        "    total_acc = 0\n",
        "\n",
        "    with torch.no_grad():\n",
        "\n",
        "        for inputs, labels in tqdm(val_loader,leave=False):\n",
        "\n",
        "            inputs, labels = inputs.to(Device),labels.to(Device)\n",
        "            outputs = model2(inputs)\n",
        "            loss = criterion(outputs, labels)\n",
        "            total_loss += loss.item()\n",
        "            total_acc +=accuracy(torch.argmax(outputs,1),labels).item()\n",
        "\n",
        "\n",
        "        loss_val.append(total_loss/len(val_loader))\n",
        "        acc_val.append(total_acc/len(val_loader))\n",
        "\n",
        "        print(f\" epoch{epoch+1}: train_loss-> {loss_train[-1]}, val_loss-> {loss_val[-1]}, train accuracy -> {acc_train[-1]}, val_accuracy -> {acc_val[-1]}\")\n",
        "        scheduler.step()"
      ],
      "metadata": {
        "colab": {
          "base_uri": "https://localhost:8080/"
        },
        "id": "K6We5wnRZB9j",
        "outputId": "4a4062af-5ab3-4e6b-e5e3-3c50bb504ddf"
      },
      "execution_count": 24,
      "outputs": [
        {
          "output_type": "stream",
          "name": "stderr",
          "text": [
            ""
          ]
        },
        {
          "output_type": "stream",
          "name": "stdout",
          "text": [
            " epoch1: train_loss-> 1.8908481442115523, val_loss-> 1.5525627046823502, train accuracy -> 0.2738419349559329, val_accuracy -> 0.3935546875\n",
            "Adjusting learning rate of group 0 to 9.0000e-04.\n"
          ]
        },
        {
          "output_type": "stream",
          "name": "stderr",
          "text": [
            ""
          ]
        },
        {
          "output_type": "stream",
          "name": "stdout",
          "text": [
            " epoch2: train_loss-> 1.4578396129337223, val_loss-> 1.2437538743019103, train accuracy -> 0.4526761758395217, val_accuracy -> 0.5375\n",
            "Adjusting learning rate of group 0 to 8.1000e-04.\n"
          ]
        },
        {
          "output_type": "stream",
          "name": "stderr",
          "text": [
            ""
          ]
        },
        {
          "output_type": "stream",
          "name": "stdout",
          "text": [
            " epoch3: train_loss-> 1.1771699545735663, val_loss-> 0.9697987049818039, train accuracy -> 0.5784431226890195, val_accuracy -> 0.648046875\n",
            "Adjusting learning rate of group 0 to 7.2900e-04.\n"
          ]
        },
        {
          "output_type": "stream",
          "name": "stderr",
          "text": [
            ""
          ]
        },
        {
          "output_type": "stream",
          "name": "stdout",
          "text": [
            " epoch4: train_loss-> 0.9925504577430811, val_loss-> 0.8507806196808815, train accuracy -> 0.6513523911549286, val_accuracy -> 0.7138671875\n",
            "Adjusting learning rate of group 0 to 6.5610e-04.\n"
          ]
        },
        {
          "output_type": "stream",
          "name": "stderr",
          "text": [
            ""
          ]
        },
        {
          "output_type": "stream",
          "name": "stdout",
          "text": [
            " epoch5: train_loss-> 0.8722207290543751, val_loss-> 0.73225162550807, train accuracy -> 0.6988389756191861, val_accuracy -> 0.74375\n",
            "Adjusting learning rate of group 0 to 5.9049e-04.\n"
          ]
        },
        {
          "output_type": "stream",
          "name": "stderr",
          "text": [
            ""
          ]
        },
        {
          "output_type": "stream",
          "name": "stdout",
          "text": [
            " epoch6: train_loss-> 0.7793374571271918, val_loss-> 0.6705736860632896, train accuracy -> 0.7370975378223441, val_accuracy -> 0.7712890625\n",
            "Adjusting learning rate of group 0 to 5.3144e-04.\n"
          ]
        },
        {
          "output_type": "stream",
          "name": "stderr",
          "text": [
            ""
          ]
        },
        {
          "output_type": "stream",
          "name": "stdout",
          "text": [
            " epoch7: train_loss-> 0.7014209304682233, val_loss-> 0.6041927568614482, train accuracy -> 0.7647322837940671, val_accuracy -> 0.7916015625\n",
            "Adjusting learning rate of group 0 to 4.7830e-04.\n"
          ]
        },
        {
          "output_type": "stream",
          "name": "stderr",
          "text": [
            ""
          ]
        },
        {
          "output_type": "stream",
          "name": "stdout",
          "text": [
            " epoch8: train_loss-> 0.6365856369957328, val_loss-> 0.5659593403339386, train accuracy -> 0.787370778112249, val_accuracy -> 0.8060546875\n",
            "Adjusting learning rate of group 0 to 4.3047e-04.\n"
          ]
        },
        {
          "output_type": "stream",
          "name": "stderr",
          "text": [
            ""
          ]
        },
        {
          "output_type": "stream",
          "name": "stdout",
          "text": [
            " epoch9: train_loss-> 0.5809605850584127, val_loss-> 0.5597156032919883, train accuracy -> 0.805609809065407, val_accuracy -> 0.8162109375\n",
            "Adjusting learning rate of group 0 to 3.8742e-04.\n"
          ]
        },
        {
          "output_type": "stream",
          "name": "stderr",
          "text": [
            ""
          ]
        },
        {
          "output_type": "stream",
          "name": "stdout",
          "text": [
            " epoch10: train_loss-> 0.5242278926413168, val_loss-> 0.5421977937221527, train accuracy -> 0.8247193616222251, val_accuracy -> 0.829296875\n",
            "Adjusting learning rate of group 0 to 3.4868e-04.\n"
          ]
        },
        {
          "output_type": "stream",
          "name": "stderr",
          "text": [
            ""
          ]
        },
        {
          "output_type": "stream",
          "name": "stdout",
          "text": [
            " epoch11: train_loss-> 0.48771543758498, val_loss-> 0.5191027946770191, train accuracy -> 0.8369165286421776, val_accuracy -> 0.8337890625\n",
            "Adjusting learning rate of group 0 to 3.1381e-04.\n"
          ]
        },
        {
          "output_type": "stream",
          "name": "stderr",
          "text": [
            ""
          ]
        },
        {
          "output_type": "stream",
          "name": "stdout",
          "text": [
            " epoch12: train_loss-> 0.4470627058551393, val_loss-> 0.5097386904060841, train accuracy -> 0.8511753275313161, val_accuracy -> 0.828125\n",
            "Adjusting learning rate of group 0 to 2.8243e-04.\n"
          ]
        },
        {
          "output_type": "stream",
          "name": "stderr",
          "text": [
            ""
          ]
        },
        {
          "output_type": "stream",
          "name": "stdout",
          "text": [
            " epoch13: train_loss-> 0.4114487396807156, val_loss-> 0.49453614503145216, train accuracy -> 0.8636388297785412, val_accuracy -> 0.8427734375\n",
            "Adjusting learning rate of group 0 to 2.5419e-04.\n"
          ]
        },
        {
          "output_type": "stream",
          "name": "stderr",
          "text": [
            ""
          ]
        },
        {
          "output_type": "stream",
          "name": "stdout",
          "text": [
            " epoch14: train_loss-> 0.37773764827712014, val_loss-> 0.4826493844389915, train accuracy -> 0.8733600655739958, val_accuracy -> 0.8478515625\n",
            "Adjusting learning rate of group 0 to 2.2877e-04.\n"
          ]
        },
        {
          "output_type": "stream",
          "name": "stderr",
          "text": [
            ""
          ]
        },
        {
          "output_type": "stream",
          "name": "stdout",
          "text": [
            " epoch15: train_loss-> 0.34758585725318303, val_loss-> 0.47663575429469346, train accuracy -> 0.8837594696405259, val_accuracy -> 0.8421875\n",
            "Adjusting learning rate of group 0 to 2.0589e-04.\n"
          ]
        },
        {
          "output_type": "stream",
          "name": "stderr",
          "text": [
            ""
          ]
        },
        {
          "output_type": "stream",
          "name": "stdout",
          "text": [
            " epoch16: train_loss-> 0.31879751913418825, val_loss-> 0.4665155531838536, train accuracy -> 0.8928247317671776, val_accuracy -> 0.85546875\n",
            "Adjusting learning rate of group 0 to 1.8530e-04.\n"
          ]
        },
        {
          "output_type": "stream",
          "name": "stderr",
          "text": [
            ""
          ]
        },
        {
          "output_type": "stream",
          "name": "stdout",
          "text": [
            " epoch17: train_loss-> 0.2900318909563463, val_loss-> 0.4763064481317997, train accuracy -> 0.9019072562117468, val_accuracy -> 0.855078125\n",
            "Adjusting learning rate of group 0 to 1.6677e-04.\n"
          ]
        },
        {
          "output_type": "stream",
          "name": "stderr",
          "text": [
            ""
          ]
        },
        {
          "output_type": "stream",
          "name": "stdout",
          "text": [
            " epoch18: train_loss-> 0.2703754250171848, val_loss-> 0.4813509456813335, train accuracy -> 0.9093005247414112, val_accuracy -> 0.8548828125\n",
            "Adjusting learning rate of group 0 to 1.5009e-04.\n"
          ]
        },
        {
          "output_type": "stream",
          "name": "stderr",
          "text": [
            ""
          ]
        },
        {
          "output_type": "stream",
          "name": "stdout",
          "text": [
            " epoch19: train_loss-> 0.24850465679033237, val_loss-> 0.4657307015731931, train accuracy -> 0.9163904670964588, val_accuracy -> 0.8623046875\n",
            "Adjusting learning rate of group 0 to 1.3509e-04.\n"
          ]
        },
        {
          "output_type": "stream",
          "name": "stderr",
          "text": [
            ""
          ]
        },
        {
          "output_type": "stream",
          "name": "stdout",
          "text": [
            " epoch20: train_loss-> 0.2320554890796881, val_loss-> 0.5005687743425369, train accuracy -> 0.9241043244573203, val_accuracy -> 0.853125\n",
            "Adjusting learning rate of group 0 to 1.2158e-04.\n"
          ]
        },
        {
          "output_type": "stream",
          "name": "stderr",
          "text": [
            ""
          ]
        },
        {
          "output_type": "stream",
          "name": "stdout",
          "text": [
            " epoch21: train_loss-> 0.21099215157499368, val_loss-> 0.4809793774038553, train accuracy -> 0.9293866397982294, val_accuracy -> 0.858203125\n",
            "Adjusting learning rate of group 0 to 1.0942e-04.\n"
          ]
        },
        {
          "output_type": "stream",
          "name": "stderr",
          "text": [
            ""
          ]
        },
        {
          "output_type": "stream",
          "name": "stdout",
          "text": [
            " epoch22: train_loss-> 0.19869565447284418, val_loss-> 0.4781437233090401, train accuracy -> 0.9332706951959566, val_accuracy -> 0.86796875\n",
            "Adjusting learning rate of group 0 to 9.8477e-05.\n"
          ]
        },
        {
          "output_type": "stream",
          "name": "stderr",
          "text": [
            ""
          ]
        },
        {
          "output_type": "stream",
          "name": "stdout",
          "text": [
            " epoch23: train_loss-> 0.18910707190463488, val_loss-> 0.5009045645594596, train accuracy -> 0.9363483468239958, val_accuracy -> 0.8576171875\n",
            "Adjusting learning rate of group 0 to 8.8629e-05.\n"
          ]
        },
        {
          "output_type": "stream",
          "name": "stderr",
          "text": [
            ""
          ]
        },
        {
          "output_type": "stream",
          "name": "stdout",
          "text": [
            " epoch24: train_loss-> 0.17292128635612738, val_loss-> 0.4894313745200634, train accuracy -> 0.942210187796842, val_accuracy -> 0.867578125\n",
            "Adjusting learning rate of group 0 to 7.9766e-05.\n"
          ]
        },
        {
          "output_type": "stream",
          "name": "stderr",
          "text": [
            ""
          ]
        },
        {
          "output_type": "stream",
          "name": "stdout",
          "text": [
            " epoch25: train_loss-> 0.1644453585507687, val_loss-> 0.48755358485504985, train accuracy -> 0.9448562775823203, val_accuracy -> 0.8708984375\n",
            "Adjusting learning rate of group 0 to 7.1790e-05.\n"
          ]
        },
        {
          "output_type": "stream",
          "name": "stderr",
          "text": [
            ""
          ]
        },
        {
          "output_type": "stream",
          "name": "stdout",
          "text": [
            " epoch26: train_loss-> 0.15558501162608576, val_loss-> 0.498746919259429, train accuracy -> 0.9476799241859805, val_accuracy -> 0.8671875\n",
            "Adjusting learning rate of group 0 to 6.4611e-05.\n"
          ]
        },
        {
          "output_type": "stream",
          "name": "stderr",
          "text": [
            ""
          ]
        },
        {
          "output_type": "stream",
          "name": "stdout",
          "text": [
            " epoch27: train_loss-> 0.1429862252817574, val_loss-> 0.49234073790721594, train accuracy -> 0.9520645912059329, val_accuracy -> 0.8712890625\n",
            "Adjusting learning rate of group 0 to 5.8150e-05.\n"
          ]
        },
        {
          "output_type": "stream",
          "name": "stderr",
          "text": [
            ""
          ]
        },
        {
          "output_type": "stream",
          "name": "stdout",
          "text": [
            " epoch28: train_loss-> 0.1395437389358201, val_loss-> 0.5050193408504129, train accuracy -> 0.9526021937755021, val_accuracy -> 0.8658203125\n",
            "Adjusting learning rate of group 0 to 5.2335e-05.\n"
          ]
        },
        {
          "output_type": "stream",
          "name": "stderr",
          "text": [
            ""
          ]
        },
        {
          "output_type": "stream",
          "name": "stdout",
          "text": [
            " epoch29: train_loss-> 0.13690961846573788, val_loss-> 0.49422453916631637, train accuracy -> 0.9539018110795454, val_accuracy -> 0.874609375\n",
            "Adjusting learning rate of group 0 to 4.7101e-05.\n"
          ]
        },
        {
          "output_type": "stream",
          "name": "stderr",
          "text": [
            ""
          ]
        },
        {
          "output_type": "stream",
          "name": "stdout",
          "text": [
            " epoch30: train_loss-> 0.12128738302271813, val_loss-> 0.5029254441149533, train accuracy -> 0.9586514559659091, val_accuracy -> 0.87265625\n",
            "Adjusting learning rate of group 0 to 4.2391e-05.\n"
          ]
        },
        {
          "output_type": "stream",
          "name": "stderr",
          "text": [
            ""
          ]
        },
        {
          "output_type": "stream",
          "name": "stdout",
          "text": [
            " epoch31: train_loss-> 0.12390380157475275, val_loss-> 0.4913000038941391, train accuracy -> 0.9579288983209566, val_accuracy -> 0.8732421875\n",
            "Adjusting learning rate of group 0 to 3.8152e-05.\n"
          ]
        },
        {
          "output_type": "stream",
          "name": "stderr",
          "text": [
            ""
          ]
        },
        {
          "output_type": "stream",
          "name": "stdout",
          "text": [
            " epoch32: train_loss-> 0.1164165853723799, val_loss-> 0.5032988503575325, train accuracy -> 0.9599042179232294, val_accuracy -> 0.8720703125\n",
            "Adjusting learning rate of group 0 to 3.4337e-05.\n"
          ]
        },
        {
          "output_type": "stream",
          "name": "stderr",
          "text": [
            ""
          ]
        },
        {
          "output_type": "stream",
          "name": "stdout",
          "text": [
            " epoch33: train_loss-> 0.11258944937303154, val_loss-> 0.5054333743173629, train accuracy -> 0.9625009863891385, val_accuracy -> 0.869921875\n",
            "Adjusting learning rate of group 0 to 3.0903e-05.\n"
          ]
        },
        {
          "output_type": "stream",
          "name": "stderr",
          "text": [
            ""
          ]
        },
        {
          "output_type": "stream",
          "name": "stdout",
          "text": [
            " epoch34: train_loss-> 0.10993187890959565, val_loss-> 0.507939777080901, train accuracy -> 0.9636279789900238, val_accuracy -> 0.8724609375\n",
            "Adjusting learning rate of group 0 to 2.7813e-05.\n"
          ]
        },
        {
          "output_type": "stream",
          "name": "stderr",
          "text": [
            ""
          ]
        },
        {
          "output_type": "stream",
          "name": "stdout",
          "text": [
            " epoch35: train_loss-> 0.10511887878899208, val_loss-> 0.5063522885437124, train accuracy -> 0.9650656960227273, val_accuracy -> 0.8736328125\n",
            "Adjusting learning rate of group 0 to 2.5032e-05.\n"
          ]
        },
        {
          "output_type": "stream",
          "name": "stderr",
          "text": [
            ""
          ]
        },
        {
          "output_type": "stream",
          "name": "stdout",
          "text": [
            " epoch36: train_loss-> 0.10666592583716424, val_loss-> 0.5078499059542082, train accuracy -> 0.9642223011363636, val_accuracy -> 0.874609375\n",
            "Adjusting learning rate of group 0 to 2.2528e-05.\n"
          ]
        },
        {
          "output_type": "stream",
          "name": "stderr",
          "text": [
            ""
          ]
        },
        {
          "output_type": "stream",
          "name": "stdout",
          "text": [
            " epoch37: train_loss-> 0.0996647649762136, val_loss-> 0.5114992635091766, train accuracy -> 0.9664294309914112, val_accuracy -> 0.873046875\n",
            "Adjusting learning rate of group 0 to 2.0276e-05.\n"
          ]
        },
        {
          "output_type": "stream",
          "name": "stderr",
          "text": [
            ""
          ]
        },
        {
          "output_type": "stream",
          "name": "stdout",
          "text": [
            " epoch38: train_loss-> 0.0980142782209441, val_loss-> 0.5097721598576754, train accuracy -> 0.966535471887751, val_accuracy -> 0.8755859375\n",
            "Adjusting learning rate of group 0 to 1.8248e-05.\n"
          ]
        },
        {
          "output_type": "stream",
          "name": "stderr",
          "text": [
            ""
          ]
        },
        {
          "output_type": "stream",
          "name": "stdout",
          "text": [
            " epoch39: train_loss-> 0.09424678910396654, val_loss-> 0.51968972030445, train accuracy -> 0.9683948863636364, val_accuracy -> 0.870703125\n",
            "Adjusting learning rate of group 0 to 1.6423e-05.\n"
          ]
        },
        {
          "output_type": "stream",
          "name": "stderr",
          "text": [
            "                                               "
          ]
        },
        {
          "output_type": "stream",
          "name": "stdout",
          "text": [
            " epoch40: train_loss-> 0.09756280458796854, val_loss-> 0.5125351646740455, train accuracy -> 0.9672185724431818, val_accuracy -> 0.873046875\n",
            "Adjusting learning rate of group 0 to 1.4781e-05.\n"
          ]
        },
        {
          "output_type": "stream",
          "name": "stderr",
          "text": [
            "\r"
          ]
        }
      ]
    },
    {
      "cell_type": "code",
      "execution_count": 55,
      "metadata": {
        "colab": {
          "base_uri": "https://localhost:8080/",
          "height": 281
        },
        "id": "6SZqOmUGoG2N",
        "outputId": "87a96723-4bb5-400d-bd71-9f1f6bc9f4ca"
      },
      "outputs": [
        {
          "output_type": "display_data",
          "data": {
            "text/plain": [
              "<Figure size 432x288 with 1 Axes>"
            ],
            "image/png": "[encoded data removed]"
          },
          "metadata": {
            "needs_background": "light"
          }
        }
      ],
      "source": [
        "plt.plot(loss_train)\n",
        "plt.plot(loss_val)\n",
        "plt.legend(['train','validation'])\n",
        "plt.title(\"VGG16 Loss\");"
      ]
    },
    {
      "cell_type": "code",
      "source": [
        "plt.plot(acc_train)\n",
        "plt.plot(acc_val)\n",
        "plt.legend(['train', 'validation'])\n",
        "plt.title(\"VGG16 Accuracy\")"
      ],
      "metadata": {
        "colab": {
          "base_uri": "https://localhost:8080/",
          "height": 298
        },
        "id": "GdrKvlN2_S01",
        "outputId": "8bd5ee2a-3ffe-4dbe-d40e-fc6ceeff4520"
      },
      "execution_count": 56,
      "outputs": [
        {
          "output_type": "execute_result",
          "data": {
            "text/plain": [
              "Text(0.5, 1.0, 'VGG16 Accuracy')"
            ]
          },
          "metadata": {},
          "execution_count": 56
        },
        {
          "output_type": "display_data",
          "data": {
            "text/plain": [
              "<Figure size 432x288 with 1 Axes>"
            ],
            "image/png": "[encoded data removed]"
          },
          "metadata": {
            "needs_background": "light"
          }
        }
      ]
    },
    {
      "cell_type": "code",
      "source": [
        "layers_name  = [name  for name, layer in model2._modules.items()]\n",
        "layers_layer = [layer for name, layer in model2._modules.items()]"
      ],
      "metadata": {
        "id": "FCu_H45nvRye"
      },
      "execution_count": 27,
      "outputs": []
    },
    {
      "cell_type": "code",
      "source": [
        "def get_layer_output(x):\n",
        "  activation = {}\n",
        "\n",
        "  def get_activation(name):\n",
        "    def hook(model, input, output):\n",
        "      activation[name] = output.detach().flatten(1)\n",
        "    return hook\n",
        "\n",
        "  for i in range(len(layers_name)):\n",
        "    #model = MyModel()\n",
        "    layers_layer[i].register_forward_hook(get_activation(layers_name[i]))\n",
        "    #x = torch.rand(1,3, 32, 32).to(Device)\n",
        "    output = model2(x)\n",
        "    #print(activation[layers_name[i]].flatten(1).shape)\n",
        "  return activation"
      ],
      "metadata": {
        "id": "DDnfvMcE_a4E"
      },
      "execution_count": 28,
      "outputs": []
    },
    {
      "cell_type": "code",
      "source": [
        ""
      ],
      "metadata": {
        "id": "CC_qA7CfMbjk"
      },
      "execution_count": null,
      "outputs": []
    },
    {
      "cell_type": "code",
      "source": [
        "x = torch.rand(3,3, 32, 32).to(Device)\n",
        "a = get_layer_output(x)"
      ],
      "metadata": {
        "id": "Xg6WIOyp1ouq"
      },
      "execution_count": 29,
      "outputs": []
    },
    {
      "cell_type": "code",
      "source": [
        "test_loader = []\n",
        "test_indices = [i for i in range(1000)]\n",
        "for i in range(10):\n",
        "  \n",
        "  np.random.shuffle(test_indices)\n",
        "  index = int(np.floor(0.1 * 1000)) \n",
        "  idx= test_indices[:index]\n",
        "  sampler = SubsetRandomSampler(idx)  \n",
        "  d = dataset_per_class(test_dataset , i)#dataset / class\n",
        "  test_loader.append(torch.utils.data.DataLoader(d, batch_size = batch_size,sampler = sampler))"
      ],
      "metadata": {
        "id": "mLiG466BSFSZ"
      },
      "execution_count": 30,
      "outputs": []
    },
    {
      "cell_type": "code",
      "source": [
        "sum = 0 \n",
        "for inputs, labels in test_loader[0]:\n",
        "  inputs = inputs.to(Device)\n",
        "  sum += get_layer_output(inputs)['bn1'].sum(0)\n",
        "(sum/100).shape"
      ],
      "metadata": {
        "colab": {
          "base_uri": "https://localhost:8080/"
        },
        "id": "uAI7PHOQP0fQ",
        "outputId": "16feea6b-bcab-440b-b47d-6a51b31fb935"
      },
      "execution_count": 31,
      "outputs": [
        {
          "output_type": "execute_result",
          "data": {
            "text/plain": [
              "torch.Size([65536])"
            ]
          },
          "metadata": {},
          "execution_count": 31
        }
      ]
    },
    {
      "cell_type": "code",
      "source": [
        "dict_mean = {}\n",
        "for c in range(10):\n",
        "  dict_mean[c]={}\n",
        "  for i in layers_name:\n",
        "    dict_mean[c][i] = 0\n",
        "\n",
        "for c in range(10):#for each class\n",
        "  print(c)\n",
        "  for inputs, labels in test_loader[c]:\n",
        "    inputs, labels = inputs.to(Device), labels.to(Device)\n",
        "    #get_layer_output(inputs)\n",
        "    for name in layers_name:\n",
        "      dict_mean[c][name]+=get_layer_output(inputs)[name].sum(0)\n"
      ],
      "metadata": {
        "colab": {
          "base_uri": "https://localhost:8080/"
        },
        "id": "HxsNkYVCJXNF",
        "outputId": "d6112bee-6286-4d38-d9f3-74a881ed0e65"
      },
      "execution_count": 32,
      "outputs": [
        {
          "output_type": "stream",
          "name": "stdout",
          "text": [
            "0\n",
            "1\n",
            "2\n",
            "3\n",
            "4\n",
            "5\n",
            "6\n",
            "7\n",
            "8\n",
            "9\n"
          ]
        }
      ]
    },
    {
      "cell_type": "code",
      "source": [
        "for c in range(10):\n",
        "  for i,(input, label) in enumerate(test_loader[c]):\n",
        "    pass"
      ],
      "metadata": {
        "id": "KcPACS4sb3zU"
      },
      "execution_count": 34,
      "outputs": []
    },
    {
      "cell_type": "code",
      "source": [
        "for name, idx in enumerate(layers_name):\n",
        "  print(name)"
      ],
      "metadata": {
        "id": "j717SE3TPfY5"
      },
      "execution_count": null,
      "outputs": []
    },
    {
      "cell_type": "code",
      "source": [
        "total_SI = [0]*len(layers_name)\n",
        "for c in range(10):\n",
        "    for i,(inputs, labels) in enumerate(test_loader[c]):\n",
        "      inputs = inputs.to(Device)\n",
        "      labels = labels.to(Device)\n",
        "\n",
        "      for idx, name in enumerate(layers_name):\n",
        "          SI_count = 0\n",
        "          ss = get_layer_output(inputs)[name]\n",
        "\n",
        "          norm = torch.tensor(()).to(Device)\n",
        "          for i in range(10):\n",
        "            temp = torch.norm((ss - (dict_mean[i][name]/100)),dim = -1).unsqueeze(0)\n",
        "\n",
        "            norm = torch.cat((norm, temp),dim =0)\n",
        "\n",
        "          SI_count+=(torch.argmin(norm,dim = 0) == labels).sum()\n",
        "\n",
        "          total_SI[idx]+=SI_count\n"
      ],
      "metadata": {
        "id": "wxUCBdnt13K6"
      },
      "execution_count": 42,
      "outputs": []
    },
    {
      "cell_type": "code",
      "source": [
        "SI_plot = [si.cpu()/1000 for si in total_SI]"
      ],
      "metadata": {
        "id": "26f5TSPTuOcf"
      },
      "execution_count": null,
      "outputs": []
    },
    {
      "cell_type": "code",
      "source": [
        "plt.plot(SI_plot , '-o')\n",
        "plt.grid(\"on\")\n",
        "plt.legend(['Test data'], loc = 'lower right')\n",
        "plt.title('SI for every layer of VGG16');"
      ],
      "metadata": {
        "colab": {
          "base_uri": "https://localhost:8080/",
          "height": 281
        },
        "id": "MlfvyzNbyJ43",
        "outputId": "5e106fff-0f02-4969-d85b-6b4d980d5930"
      },
      "execution_count": 72,
      "outputs": [
        {
          "output_type": "display_data",
          "data": {
            "text/plain": [
              "<Figure size 432x288 with 1 Axes>"
            ],
            "image/png": "[encoded data removed]"
          },
          "metadata": {
            "needs_background": "light"
          }
        }
      ]
    }
  ],
  "metadata": {
    "accelerator": "GPU",
    "colab": {
      "collapsed_sections": [],
      "name": "HW3_Hataminezhad_810199135_final.ipynb",
      "provenance": []
    },
    "kernelspec": {
      "display_name": "Python 3",
      "name": "python3"
    },
    "language_info": {
      "name": "python"
    },
    "gpuClass": "standard",
    "widgets": {
      "application/vnd.jupyter.widget-state+json": {
        "f3b3d633c1ec4856b3c02bc6cfd37d17": {
          "model_module": "@jupyter-widgets/controls",
          "model_name": "HBoxModel",
          "model_module_version": "1.5.0",
          "state": {
            "_dom_classes": [],
            "_model_module": "@jupyter-widgets/controls",
            "_model_module_version": "1.5.0",
            "_model_name": "HBoxModel",
            "_view_count": null,
            "_view_module": "@jupyter-widgets/controls",
            "_view_module_version": "1.5.0",
            "_view_name": "HBoxView",
            "box_style": "",
            "children": [
              "IPY_MODEL_5565e2d3b9254721a3aedef40831af60",
              "IPY_MODEL_9c6ab824c2df40d7a8c400b122816a75",
              "IPY_MODEL_54309bbf182041d8a22e006ab4fb616f"
            ],
            "layout": "IPY_MODEL_abab21f509f04fd3a18fe877b9a1bb15"
          }
        },
        "5565e2d3b9254721a3aedef40831af60": {
          "model_module": "@jupyter-widgets/controls",
          "model_name": "HTMLModel",
          "model_module_version": "1.5.0",
          "state": {
            "_dom_classes": [],
            "_model_module": "@jupyter-widgets/controls",
            "_model_module_version": "1.5.0",
            "_model_name": "HTMLModel",
            "_view_count": null,
            "_view_module": "@jupyter-widgets/controls",
            "_view_module_version": "1.5.0",
            "_view_name": "HTMLView",
            "description": "",
            "description_tooltip": null,
            "layout": "IPY_MODEL_132f98a213ed4398925746d3f6d42238",
            "placeholder": "​",
            "style": "IPY_MODEL_52614e6347214f81bb1f0d3abdd5f6f4",
            "value": ""
          }
        },
        "9c6ab824c2df40d7a8c400b122816a75": {
          "model_module": "@jupyter-widgets/controls",
          "model_name": "FloatProgressModel",
          "model_module_version": "1.5.0",
          "state": {
            "_dom_classes": [],
            "_model_module": "@jupyter-widgets/controls",
            "_model_module_version": "1.5.0",
            "_model_name": "FloatProgressModel",
            "_view_count": null,
            "_view_module": "@jupyter-widgets/controls",
            "_view_module_version": "1.5.0",
            "_view_name": "ProgressView",
            "bar_style": "success",
            "description": "",
            "description_tooltip": null,
            "layout": "IPY_MODEL_1b78a49b9b6d4a6a8085aa96f8c35351",
            "max": 170498071,
            "min": 0,
            "orientation": "horizontal",
            "style": "IPY_MODEL_a91e8c0d757d451dad3949b73cbb33f1",
            "value": 170498071
          }
        },
        "54309bbf182041d8a22e006ab4fb616f": {
          "model_module": "@jupyter-widgets/controls",
          "model_name": "HTMLModel",
          "model_module_version": "1.5.0",
          "state": {
            "_dom_classes": [],
            "_model_module": "@jupyter-widgets/controls",
            "_model_module_version": "1.5.0",
            "_model_name": "HTMLModel",
            "_view_count": null,
            "_view_module": "@jupyter-widgets/controls",
            "_view_module_version": "1.5.0",
            "_view_name": "HTMLView",
            "description": "",
            "description_tooltip": null,
            "layout": "IPY_MODEL_5913f36c8f244f75b6e4c1f210280f13",
            "placeholder": "​",
            "style": "IPY_MODEL_73df90e9b9324b6883a65283241511e0",
            "value": " 170499072/? [00:03&lt;00:00, 34686154.57it/s]"
          }
        },
        "abab21f509f04fd3a18fe877b9a1bb15": {
          "model_module": "@jupyter-widgets/base",
          "model_name": "LayoutModel",
          "model_module_version": "1.2.0",
          "state": {
            "_model_module": "@jupyter-widgets/base",
            "_model_module_version": "1.2.0",
            "_model_name": "LayoutModel",
            "_view_count": null,
            "_view_module": "@jupyter-widgets/base",
            "_view_module_version": "1.2.0",
            "_view_name": "LayoutView",
            "align_content": null,
            "align_items": null,
            "align_self": null,
            "border": null,
            "bottom": null,
            "display": null,
            "flex": null,
            "flex_flow": null,
            "grid_area": null,
            "grid_auto_columns": null,
            "grid_auto_flow": null,
            "grid_auto_rows": null,
            "grid_column": null,
            "grid_gap": null,
            "grid_row": null,
            "grid_template_areas": null,
            "grid_template_columns": null,
            "grid_template_rows": null,
            "height": null,
            "justify_content": null,
            "justify_items": null,
            "left": null,
            "margin": null,
            "max_height": null,
            "max_width": null,
            "min_height": null,
            "min_width": null,
            "object_fit": null,
            "object_position": null,
            "order": null,
            "overflow": null,
            "overflow_x": null,
            "overflow_y": null,
            "padding": null,
            "right": null,
            "top": null,
            "visibility": null,
            "width": null
          }
        },
        "132f98a213ed4398925746d3f6d42238": {
          "model_module": "@jupyter-widgets/base",
          "model_name": "LayoutModel",
          "model_module_version": "1.2.0",
          "state": {
            "_model_module": "@jupyter-widgets/base",
            "_model_module_version": "1.2.0",
            "_model_name": "LayoutModel",
            "_view_count": null,
            "_view_module": "@jupyter-widgets/base",
            "_view_module_version": "1.2.0",
            "_view_name": "LayoutView",
            "align_content": null,
            "align_items": null,
            "align_self": null,
            "border": null,
            "bottom": null,
            "display": null,
            "flex": null,
            "flex_flow": null,
            "grid_area": null,
            "grid_auto_columns": null,
            "grid_auto_flow": null,
            "grid_auto_rows": null,
            "grid_column": null,
            "grid_gap": null,
            "grid_row": null,
            "grid_template_areas": null,
            "grid_template_columns": null,
            "grid_template_rows": null,
            "height": null,
            "justify_content": null,
            "justify_items": null,
            "left": null,
            "margin": null,
            "max_height": null,
            "max_width": null,
            "min_height": null,
            "min_width": null,
            "object_fit": null,
            "object_position": null,
            "order": null,
            "overflow": null,
            "overflow_x": null,
            "overflow_y": null,
            "padding": null,
            "right": null,
            "top": null,
            "visibility": null,
            "width": null
          }
        },
        "52614e6347214f81bb1f0d3abdd5f6f4": {
          "model_module": "@jupyter-widgets/controls",
          "model_name": "DescriptionStyleModel",
          "model_module_version": "1.5.0",
          "state": {
            "_model_module": "@jupyter-widgets/controls",
            "_model_module_version": "1.5.0",
            "_model_name": "DescriptionStyleModel",
            "_view_count": null,
            "_view_module": "@jupyter-widgets/base",
            "_view_module_version": "1.2.0",
            "_view_name": "StyleView",
            "description_width": ""
          }
        },
        "1b78a49b9b6d4a6a8085aa96f8c35351": {
          "model_module": "@jupyter-widgets/base",
          "model_name": "LayoutModel",
          "model_module_version": "1.2.0",
          "state": {
            "_model_module": "@jupyter-widgets/base",
            "_model_module_version": "1.2.0",
            "_model_name": "LayoutModel",
            "_view_count": null,
            "_view_module": "@jupyter-widgets/base",
            "_view_module_version": "1.2.0",
            "_view_name": "LayoutView",
            "align_content": null,
            "align_items": null,
            "align_self": null,
            "border": null,
            "bottom": null,
            "display": null,
            "flex": null,
            "flex_flow": null,
            "grid_area": null,
            "grid_auto_columns": null,
            "grid_auto_flow": null,
            "grid_auto_rows": null,
            "grid_column": null,
            "grid_gap": null,
            "grid_row": null,
            "grid_template_areas": null,
            "grid_template_columns": null,
            "grid_template_rows": null,
            "height": null,
            "justify_content": null,
            "justify_items": null,
            "left": null,
            "margin": null,
            "max_height": null,
            "max_width": null,
            "min_height": null,
            "min_width": null,
            "object_fit": null,
            "object_position": null,
            "order": null,
            "overflow": null,
            "overflow_x": null,
            "overflow_y": null,
            "padding": null,
            "right": null,
            "top": null,
            "visibility": null,
            "width": null
          }
        },
        "a91e8c0d757d451dad3949b73cbb33f1": {
          "model_module": "@jupyter-widgets/controls",
          "model_name": "ProgressStyleModel",
          "model_module_version": "1.5.0",
          "state": {
            "_model_module": "@jupyter-widgets/controls",
            "_model_module_version": "1.5.0",
            "_model_name": "ProgressStyleModel",
            "_view_count": null,
            "_view_module": "@jupyter-widgets/base",
            "_view_module_version": "1.2.0",
            "_view_name": "StyleView",
            "bar_color": null,
            "description_width": ""
          }
        },
        "5913f36c8f244f75b6e4c1f210280f13": {
          "model_module": "@jupyter-widgets/base",
          "model_name": "LayoutModel",
          "model_module_version": "1.2.0",
          "state": {
            "_model_module": "@jupyter-widgets/base",
            "_model_module_version": "1.2.0",
            "_model_name": "LayoutModel",
            "_view_count": null,
            "_view_module": "@jupyter-widgets/base",
            "_view_module_version": "1.2.0",
            "_view_name": "LayoutView",
            "align_content": null,
            "align_items": null,
            "align_self": null,
            "border": null,
            "bottom": null,
            "display": null,
            "flex": null,
            "flex_flow": null,
            "grid_area": null,
            "grid_auto_columns": null,
            "grid_auto_flow": null,
            "grid_auto_rows": null,
            "grid_column": null,
            "grid_gap": null,
            "grid_row": null,
            "grid_template_areas": null,
            "grid_template_columns": null,
            "grid_template_rows": null,
            "height": null,
            "justify_content": null,
            "justify_items": null,
            "left": null,
            "margin": null,
            "max_height": null,
            "max_width": null,
            "min_height": null,
            "min_width": null,
            "object_fit": null,
            "object_position": null,
            "order": null,
            "overflow": null,
            "overflow_x": null,
            "overflow_y": null,
            "padding": null,
            "right": null,
            "top": null,
            "visibility": null,
            "width": null
          }
        },
        "73df90e9b9324b6883a65283241511e0": {
          "model_module": "@jupyter-widgets/controls",
          "model_name": "DescriptionStyleModel",
          "model_module_version": "1.5.0",
          "state": {
            "_model_module": "@jupyter-widgets/controls",
            "_model_module_version": "1.5.0",
            "_model_name": "DescriptionStyleModel",
            "_view_count": null,
            "_view_module": "@jupyter-widgets/base",
            "_view_module_version": "1.2.0",
            "_view_name": "StyleView",
            "description_width": ""
          }
        }
      }
    }
  },
  "nbformat": 4,
  "nbformat_minor": 0
}